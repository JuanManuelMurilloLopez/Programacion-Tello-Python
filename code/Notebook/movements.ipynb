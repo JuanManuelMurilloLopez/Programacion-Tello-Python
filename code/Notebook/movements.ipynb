{
 "cells": [
  {
   "cell_type": "code",
   "execution_count": 7,
   "id": "44703b7b",
   "metadata": {},
   "outputs": [],
   "source": [
    "from djitellopy import Tello"
   ]
  },
  {
   "cell_type": "markdown",
   "id": "9e494af7",
   "metadata": {},
   "source": [
    "## Conexión con el Dron"
   ]
  },
  {
   "cell_type": "code",
   "execution_count": 4,
   "id": "7793a61a",
   "metadata": {},
   "outputs": [
    {
     "name": "stderr",
     "output_type": "stream",
     "text": [
      "[INFO] tello.py - 129 - Tello instance was initialized. Host: '192.168.10.1'. Port: '8889'.\n",
      "[INFO] tello.py - 438 - Send command: 'command'\n",
      "[ERROR] tello.py - 458 - 'utf-8' codec can't decode byte 0xcc in position 0: invalid continuation byte\n",
      "[INFO] tello.py - 438 - Send command: 'command'\n",
      "[INFO] tello.py - 462 - Response command: 'ok'\n"
     ]
    },
    {
     "name": "stdout",
     "output_type": "stream",
     "text": [
      "Batería: 63\n"
     ]
    }
   ],
   "source": [
    "tello = Tello()\n",
    "tello.connect()\n",
    "battery_level = tello.get_battery()\n",
    "print(f\"Batería: {battery_level}\")"
   ]
  },
  {
   "cell_type": "markdown",
   "id": "f2745857",
   "metadata": {},
   "source": [
    "# Movimientos Básicos del Dron"
   ]
  },
  {
   "cell_type": "markdown",
   "id": "f20ed246",
   "metadata": {},
   "source": [
    "## Despegar"
   ]
  },
  {
   "cell_type": "code",
   "execution_count": 8,
   "id": "bee37c11",
   "metadata": {},
   "outputs": [
    {
     "name": "stderr",
     "output_type": "stream",
     "text": [
      "[INFO] tello.py - 438 - Send command: 'takeoff'\n",
      "[INFO] tello.py - 462 - Response takeoff: 'error'\n",
      "[INFO] tello.py - 438 - Send command: 'takeoff'\n",
      "[INFO] tello.py - 462 - Response takeoff: 'ok'\n"
     ]
    }
   ],
   "source": [
    "tello.takeoff()"
   ]
  },
  {
   "cell_type": "markdown",
   "id": "9bb212e2",
   "metadata": {},
   "source": [
    "## Aterrizar"
   ]
  },
  {
   "cell_type": "code",
   "execution_count": 6,
   "id": "9c0d1b29",
   "metadata": {},
   "outputs": [
    {
     "name": "stderr",
     "output_type": "stream",
     "text": [
      "[INFO] tello.py - 438 - Send command: 'land'\n",
      "[INFO] tello.py - 462 - Response land: 'ok'\n"
     ]
    }
   ],
   "source": [
    "tello.land()"
   ]
  },
  {
   "cell_type": "markdown",
   "id": "955f5ce9",
   "metadata": {},
   "source": [
    "## Derecha"
   ]
  },
  {
   "cell_type": "code",
   "execution_count": null,
   "id": "af9e3693",
   "metadata": {},
   "outputs": [],
   "source": [
    "tello.move_right(10) # cm"
   ]
  },
  {
   "cell_type": "markdown",
   "id": "6adcf128",
   "metadata": {},
   "source": [
    "## Izquierda"
   ]
  },
  {
   "cell_type": "code",
   "execution_count": null,
   "id": "a29d13f6",
   "metadata": {},
   "outputs": [],
   "source": [
    "tello.move_left(10)"
   ]
  },
  {
   "cell_type": "markdown",
   "id": "b68f65eb",
   "metadata": {},
   "source": [
    "## Adelante"
   ]
  },
  {
   "cell_type": "code",
   "execution_count": null,
   "id": "49037aa9",
   "metadata": {},
   "outputs": [],
   "source": [
    "tello.move_forward(10)"
   ]
  },
  {
   "cell_type": "markdown",
   "id": "f2502c9e",
   "metadata": {},
   "source": [
    "## Atrás"
   ]
  },
  {
   "cell_type": "code",
   "execution_count": null,
   "id": "9e00320f",
   "metadata": {},
   "outputs": [],
   "source": [
    "tello.move_back(10)"
   ]
  },
  {
   "cell_type": "markdown",
   "id": "4884ddad",
   "metadata": {},
   "source": [
    "## Arriba"
   ]
  },
  {
   "cell_type": "code",
   "execution_count": null,
   "id": "7906ce82",
   "metadata": {},
   "outputs": [],
   "source": [
    "tello.move_up(10)"
   ]
  },
  {
   "cell_type": "markdown",
   "id": "82bad9c5",
   "metadata": {},
   "source": [
    "## Abajo"
   ]
  },
  {
   "cell_type": "code",
   "execution_count": null,
   "id": "07b07c8c",
   "metadata": {},
   "outputs": [],
   "source": [
    "tello.move_down(10)"
   ]
  },
  {
   "cell_type": "markdown",
   "id": "0e286e37",
   "metadata": {},
   "source": [
    "## Rotaciones"
   ]
  },
  {
   "cell_type": "markdown",
   "id": "c5cf2031",
   "metadata": {},
   "source": [
    "### clockwise"
   ]
  },
  {
   "cell_type": "code",
   "execution_count": null,
   "id": "da8a47de",
   "metadata": {},
   "outputs": [],
   "source": [
    "tello.rotate_clockwise(45)"
   ]
  },
  {
   "cell_type": "markdown",
   "id": "667a5d98",
   "metadata": {},
   "source": [
    "### counter clockwise"
   ]
  },
  {
   "cell_type": "code",
   "execution_count": null,
   "id": "c32b2ccc",
   "metadata": {},
   "outputs": [],
   "source": [
    "tello.rotate_counter_clockwise(45)"
   ]
  }
 ],
 "metadata": {
  "kernelspec": {
   "display_name": "Python 3",
   "language": "python",
   "name": "python3"
  },
  "language_info": {
   "codemirror_mode": {
    "name": "ipython",
    "version": 3
   },
   "file_extension": ".py",
   "mimetype": "text/x-python",
   "name": "python",
   "nbconvert_exporter": "python",
   "pygments_lexer": "ipython3",
   "version": "3.12.3"
  }
 },
 "nbformat": 4,
 "nbformat_minor": 5
}
